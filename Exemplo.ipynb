{
  "nbformat": 4,
  "nbformat_minor": 0,
  "metadata": {
    "colab": {
      "provenance": [],
      "authorship_tag": "ABX9TyMk0R2O/JzqBIh2L7Q9vaSg",
      "include_colab_link": true
    },
    "kernelspec": {
      "name": "python3",
      "display_name": "Python 3"
    },
    "language_info": {
      "name": "python"
    }
  },
  "cells": [
    {
      "cell_type": "markdown",
      "metadata": {
        "id": "view-in-github",
        "colab_type": "text"
      },
      "source": [
        "<a href=\"https://colab.research.google.com/github/JoaoH2512/aulasdePA2024/blob/main/Exemplo.ipynb\" target=\"_parent\"><img src=\"https://colab.research.google.com/assets/colab-badge.svg\" alt=\"Open In Colab\"/></a>"
      ]
    },
    {
      "cell_type": "markdown",
      "source": [
        "# **Exemplo**"
      ],
      "metadata": {
        "id": "ocU2YehkD9Sx"
      }
    },
    {
      "cell_type": "code",
      "source": [
        "nome = \"JOÃO HENRIQUE\"\n",
        "idade = 15"
      ],
      "metadata": {
        "id": "hpwrQxcnElhQ"
      },
      "execution_count": 2,
      "outputs": []
    },
    {
      "cell_type": "code",
      "source": [
        "print(nome)"
      ],
      "metadata": {
        "colab": {
          "base_uri": "https://localhost:8080/"
        },
        "id": "9jjkvWW1F2kZ",
        "outputId": "86a6350e-edf2-4edf-d01d-9b9afaf20818"
      },
      "execution_count": 3,
      "outputs": [
        {
          "output_type": "stream",
          "name": "stdout",
          "text": [
            "JOÃO HENRIQUE\n"
          ]
        }
      ]
    },
    {
      "cell_type": "code",
      "source": [
        "idade"
      ],
      "metadata": {
        "colab": {
          "base_uri": "https://localhost:8080/"
        },
        "id": "lNuiRMEUGeZb",
        "outputId": "36df42cd-49fb-4ec8-f57f-d9908c523253"
      },
      "execution_count": 5,
      "outputs": [
        {
          "output_type": "execute_result",
          "data": {
            "text/plain": [
              "15"
            ]
          },
          "metadata": {},
          "execution_count": 5
        }
      ]
    },
    {
      "cell_type": "code",
      "source": [
        "print(\"Seu nome é\",nome)"
      ],
      "metadata": {
        "colab": {
          "base_uri": "https://localhost:8080/"
        },
        "id": "t-NutJruGrah",
        "outputId": "be70b147-663e-4dbd-f2d9-0b1baced26d8"
      },
      "execution_count": 6,
      "outputs": [
        {
          "output_type": "stream",
          "name": "stdout",
          "text": [
            "Seu nome é JOÃO HENRIQUE\n"
          ]
        }
      ]
    },
    {
      "cell_type": "code",
      "source": [
        "print(\"Sua idade é\",idade,\"anos de idade\")"
      ],
      "metadata": {
        "colab": {
          "base_uri": "https://localhost:8080/"
        },
        "id": "8sCUj8D0HD3z",
        "outputId": "ee26ab81-a1f5-4048-be47-337afaa0336d"
      },
      "execution_count": 7,
      "outputs": [
        {
          "output_type": "stream",
          "name": "stdout",
          "text": [
            "Sua idade é 15 anos de idade\n"
          ]
        }
      ]
    },
    {
      "cell_type": "code",
      "source": [
        "print(\"Seu nome é\",nome,\"\\nSua idade é\",idade,\"anos de idade\")"
      ],
      "metadata": {
        "colab": {
          "base_uri": "https://localhost:8080/"
        },
        "id": "2ujuBpkEH9po",
        "outputId": "e6f94c3c-da74-498b-d69f-4d47d867cf21"
      },
      "execution_count": 9,
      "outputs": [
        {
          "output_type": "stream",
          "name": "stdout",
          "text": [
            "Seu nome é JOÃO HENRIQUE \n",
            "Sua idade é 15 anos de idade\n"
          ]
        }
      ]
    },
    {
      "cell_type": "markdown",
      "source": [
        "# Operadores Aritiméticos"
      ],
      "metadata": {
        "id": "LFKx-b9_I9lb"
      }
    },
    {
      "cell_type": "code",
      "source": [
        "n1 = 7\n",
        "n2 = 8\n",
        "n3 = 10"
      ],
      "metadata": {
        "id": "7FsBl5EzJKAe"
      },
      "execution_count": 10,
      "outputs": []
    },
    {
      "cell_type": "code",
      "source": [
        "media = (n1+n2+n3)/3\n",
        "media"
      ],
      "metadata": {
        "colab": {
          "base_uri": "https://localhost:8080/"
        },
        "id": "--KGVNhKJ2aX",
        "outputId": "35d0c35b-2490-48f8-91f1-7d98024bd8e1"
      },
      "execution_count": 12,
      "outputs": [
        {
          "output_type": "execute_result",
          "data": {
            "text/plain": [
              "8.333333333333334"
            ]
          },
          "metadata": {},
          "execution_count": 12
        }
      ]
    },
    {
      "cell_type": "code",
      "source": [
        "print(\"Sua média é\",round(media,1))"
      ],
      "metadata": {
        "colab": {
          "base_uri": "https://localhost:8080/"
        },
        "id": "soHL4bpVK40i",
        "outputId": "656ea008-2ce6-4e73-e836-960edeaa662a"
      },
      "execution_count": 18,
      "outputs": [
        {
          "output_type": "stream",
          "name": "stdout",
          "text": [
            "Sua média é 8.3\n"
          ]
        }
      ]
    },
    {
      "cell_type": "code",
      "source": [
        "round(media,1)"
      ],
      "metadata": {
        "colab": {
          "base_uri": "https://localhost:8080/"
        },
        "id": "m3gQwD1oMK4V",
        "outputId": "2760c596-8413-4f73-ae2c-52147d86a070"
      },
      "execution_count": 19,
      "outputs": [
        {
          "output_type": "execute_result",
          "data": {
            "text/plain": [
              "8.3"
            ]
          },
          "metadata": {},
          "execution_count": 19
        }
      ]
    },
    {
      "cell_type": "code",
      "source": [
        "round(media)"
      ],
      "metadata": {
        "colab": {
          "base_uri": "https://localhost:8080/"
        },
        "id": "ypm9uSuwMNb5",
        "outputId": "278ba2d2-0527-42dd-811b-0ae6379351ef"
      },
      "execution_count": 20,
      "outputs": [
        {
          "output_type": "execute_result",
          "data": {
            "text/plain": [
              "8"
            ]
          },
          "metadata": {},
          "execution_count": 20
        }
      ]
    },
    {
      "cell_type": "code",
      "source": [
        "print(\"Sua média é\",media)"
      ],
      "metadata": {
        "colab": {
          "base_uri": "https://localhost:8080/"
        },
        "id": "mSXyx14kMRYV",
        "outputId": "af134116-5f06-40fa-e407-700aefeb9559"
      },
      "execution_count": 21,
      "outputs": [
        {
          "output_type": "stream",
          "name": "stdout",
          "text": [
            "Sua média é 8.333333333333334\n"
          ]
        }
      ]
    },
    {
      "cell_type": "code",
      "source": [
        "nome = input(\"Digite seu nome: \")\n",
        "nome"
      ],
      "metadata": {
        "colab": {
          "base_uri": "https://localhost:8080/",
          "height": 53
        },
        "id": "3JfySEIdSA11",
        "outputId": "2e78f6b2-f546-47b8-95a8-57644494f65a"
      },
      "execution_count": 22,
      "outputs": [
        {
          "name": "stdout",
          "output_type": "stream",
          "text": [
            "Digite seu nome: João\n"
          ]
        },
        {
          "output_type": "execute_result",
          "data": {
            "text/plain": [
              "'João'"
            ],
            "application/vnd.google.colaboratory.intrinsic+json": {
              "type": "string"
            }
          },
          "metadata": {},
          "execution_count": 22
        }
      ]
    },
    {
      "cell_type": "code",
      "source": [
        "ano_nasc = input(\"Digite seu ano de nascimento:\")\n",
        "ano_nasc"
      ],
      "metadata": {
        "colab": {
          "base_uri": "https://localhost:8080/",
          "height": 53
        },
        "id": "l0Ds4NvpS1ox",
        "outputId": "ec44d183-35aa-44b8-d5a1-cd12b3a7f8e4"
      },
      "execution_count": 23,
      "outputs": [
        {
          "name": "stdout",
          "output_type": "stream",
          "text": [
            "Digite seu ano de nascimento:2008\n"
          ]
        },
        {
          "output_type": "execute_result",
          "data": {
            "text/plain": [
              "'2008'"
            ],
            "application/vnd.google.colaboratory.intrinsic+json": {
              "type": "string"
            }
          },
          "metadata": {},
          "execution_count": 23
        }
      ]
    },
    {
      "cell_type": "code",
      "source": [
        "idade = 2024 - ano_nasc\n",
        "idade"
      ],
      "metadata": {
        "colab": {
          "base_uri": "https://localhost:8080/"
        },
        "id": "KaiGmQ0yTZZ4",
        "outputId": "d31bc7db-cebe-4944-c31e-a719a0aa60df"
      },
      "execution_count": 31,
      "outputs": [
        {
          "output_type": "execute_result",
          "data": {
            "text/plain": [
              "16"
            ]
          },
          "metadata": {},
          "execution_count": 31
        }
      ]
    },
    {
      "cell_type": "code",
      "source": [
        "type(nome)"
      ],
      "metadata": {
        "colab": {
          "base_uri": "https://localhost:8080/"
        },
        "id": "AfFi5mAvUSEb",
        "outputId": "53c3d532-e19d-4d22-f879-b0537d7ad7dd"
      },
      "execution_count": 27,
      "outputs": [
        {
          "output_type": "execute_result",
          "data": {
            "text/plain": [
              "str"
            ]
          },
          "metadata": {},
          "execution_count": 27
        }
      ]
    },
    {
      "cell_type": "code",
      "source": [
        "type(ano_nasc)"
      ],
      "metadata": {
        "colab": {
          "base_uri": "https://localhost:8080/"
        },
        "id": "N5UBpf5sUWOu",
        "outputId": "5223c87b-36de-4dfb-f3c1-616881a5262c"
      },
      "execution_count": 28,
      "outputs": [
        {
          "output_type": "execute_result",
          "data": {
            "text/plain": [
              "str"
            ]
          },
          "metadata": {},
          "execution_count": 28
        }
      ]
    },
    {
      "cell_type": "code",
      "source": [
        "ano_nasc = int(ano_nasc)"
      ],
      "metadata": {
        "id": "OO8uvrYAUf12"
      },
      "execution_count": 29,
      "outputs": []
    },
    {
      "cell_type": "code",
      "source": [
        "type(ano_nasc)"
      ],
      "metadata": {
        "colab": {
          "base_uri": "https://localhost:8080/"
        },
        "id": "ZSnPlhUdU5U1",
        "outputId": "45c15221-1a04-4e33-d5f1-b712f4031fb7"
      },
      "execution_count": 30,
      "outputs": [
        {
          "output_type": "execute_result",
          "data": {
            "text/plain": [
              "int"
            ]
          },
          "metadata": {},
          "execution_count": 30
        }
      ]
    },
    {
      "cell_type": "code",
      "source": [
        "idade = 2024 - ano_nasc\n",
        "idade"
      ],
      "metadata": {
        "colab": {
          "base_uri": "https://localhost:8080/"
        },
        "id": "vNtdhpcDVT7o",
        "outputId": "4fa9658c-67c5-4cd2-be97-fdc953f696be"
      },
      "execution_count": 32,
      "outputs": [
        {
          "output_type": "execute_result",
          "data": {
            "text/plain": [
              "16"
            ]
          },
          "metadata": {},
          "execution_count": 32
        }
      ]
    },
    {
      "cell_type": "code",
      "source": [
        "x = 7\n",
        "# obtendo o resto da dovisão de x por 2\n",
        "divisao_normal = x / 2\n",
        "resto = x % 2\n",
        "quociente = x // 2\n",
        "\n",
        "print(\"Divisão Normal\",divisao_normal)\n",
        "print(\"Resto - Mod %\",resto)\n",
        "print(\"Quociente - Div //\",quociente)"
      ],
      "metadata": {
        "colab": {
          "base_uri": "https://localhost:8080/"
        },
        "id": "EcXGFDzeXOvv",
        "outputId": "76fca0f9-bcd4-4b99-fefd-08bb550c6756"
      },
      "execution_count": 34,
      "outputs": [
        {
          "output_type": "stream",
          "name": "stdout",
          "text": [
            "Divisão Normal 3.5\n",
            "Resto - Mod % 1\n",
            "Quociente - Div // 3\n"
          ]
        }
      ]
    }
  ]
}